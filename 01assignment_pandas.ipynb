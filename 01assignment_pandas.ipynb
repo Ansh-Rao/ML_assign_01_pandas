{
 "cells": [
  {
   "cell_type": "markdown",
   "id": "da379d7e-12d3-4811-a801-9d78b6e19ebb",
   "metadata": {},
   "source": [
    "#### Q1. Create a Pandas Series that contains the following data: 4, 8, 15, 16, 23, and 42. Then, print the series."
   ]
  },
  {
   "cell_type": "code",
   "execution_count": 17,
   "id": "4ce727c0-c4b0-499c-8b46-14d7400ac527",
   "metadata": {},
   "outputs": [],
   "source": [
    "import pandas as pd\n"
   ]
  },
  {
   "cell_type": "code",
   "execution_count": 19,
   "id": "87fb4d76-8f48-495b-9b8c-0c4f62fd3b34",
   "metadata": {},
   "outputs": [
    {
     "name": "stdout",
     "output_type": "stream",
     "text": [
      "0     4\n",
      "1     8\n",
      "2    15\n",
      "3    16\n",
      "4    23\n",
      "5    42\n",
      "dtype: int64\n"
     ]
    }
   ],
   "source": [
    "ser = pd.Series([4, 8, 15, 16, 23, 42])\n",
    " \n",
    "print(ser)"
   ]
  },
  {
   "cell_type": "code",
   "execution_count": null,
   "id": "8e5ac45b-c0ea-46f6-8059-149fd67ee965",
   "metadata": {},
   "outputs": [],
   "source": []
  },
  {
   "cell_type": "markdown",
   "id": "95517f25-d0f6-42bf-960c-ddea67c6d5be",
   "metadata": {},
   "source": [
    "#### Q2. Create a variable of list type containing 10 elements in it, and apply pandas.Series function on the\n",
    "#### variable print it."
   ]
  },
  {
   "cell_type": "code",
   "execution_count": 21,
   "id": "ddc74edc-5261-4759-a60c-6325bdef0cae",
   "metadata": {},
   "outputs": [],
   "source": [
    "sum=([3,2,54,6,45,7,88,78,96,9])"
   ]
  },
  {
   "cell_type": "code",
   "execution_count": 22,
   "id": "82170535-2729-4472-bedd-2511570b6845",
   "metadata": {},
   "outputs": [
    {
     "data": {
      "text/plain": [
       "10"
      ]
     },
     "execution_count": 22,
     "metadata": {},
     "output_type": "execute_result"
    }
   ],
   "source": [
    "len(sum)"
   ]
  },
  {
   "cell_type": "code",
   "execution_count": 27,
   "id": "5880c724-5998-4aba-9efe-a594fc9c1bda",
   "metadata": {},
   "outputs": [
    {
     "name": "stdout",
     "output_type": "stream",
     "text": [
      "0     3\n",
      "1     2\n",
      "2    54\n",
      "3     6\n",
      "4    45\n",
      "5     7\n",
      "6    88\n",
      "7    78\n",
      "8    96\n",
      "9     9\n",
      "dtype: int64\n"
     ]
    }
   ],
   "source": [
    "df= pd.Series(sum)\n",
    "print(df)"
   ]
  },
  {
   "cell_type": "code",
   "execution_count": null,
   "id": "9c6d37e0-49a9-469b-b5fe-eadb2fb72098",
   "metadata": {},
   "outputs": [],
   "source": []
  },
  {
   "cell_type": "markdown",
   "id": "6ce79696-efd3-43c9-87ab-d709abf9e325",
   "metadata": {},
   "source": [
    "#### Q3. Create a Pandas DataFrame that contains the following data:\n",
    "####   Name        Age      Gender\n",
    "####   Alice        25       Female\n",
    "####   Bob          30       Male\n",
    "####   Claire       27       Female\n",
    "\n",
    "#### Then, print the DataFrame."
   ]
  },
  {
   "cell_type": "code",
   "execution_count": 44,
   "id": "ee37e75e-930b-4d5f-8c0e-49f39a755b50",
   "metadata": {},
   "outputs": [],
   "source": [
    "lst={\"Name\":['Alice','Bob','Claire'],\"Age\":[25,30,27],\"Gender\":['Female','Male','Female']}\n",
    "\n",
    "df=pd.DataFrame(lst)"
   ]
  },
  {
   "cell_type": "code",
   "execution_count": 45,
   "id": "7b209982-4fcd-4b22-b43e-7b8289d93d55",
   "metadata": {},
   "outputs": [
    {
     "name": "stdout",
     "output_type": "stream",
     "text": [
      "     Name  Age  Gender\n",
      "0   Alice   25  Female\n",
      "1     Bob   30    Male\n",
      "2  Claire   27  Female\n"
     ]
    }
   ],
   "source": [
    "print(df)"
   ]
  },
  {
   "cell_type": "code",
   "execution_count": null,
   "id": "cec4c571-2377-4fc0-b114-eca1e2406584",
   "metadata": {},
   "outputs": [],
   "source": []
  },
  {
   "cell_type": "markdown",
   "id": "726a9266-fa34-4499-9df0-d317a683fc4f",
   "metadata": {},
   "source": [
    "#### Q4. What is ‘DataFrame’ in pandas and how is it different from pandas.series? Explain with an example."
   ]
  },
  {
   "cell_type": "code",
   "execution_count": 46,
   "id": "61cc8055-e12f-41a6-b987-92f35fd5bc1c",
   "metadata": {},
   "outputs": [],
   "source": [
    "# DataFrame is a 2-dimensional labeled data structure with columns of potentially different types."
   ]
  },
  {
   "cell_type": "code",
   "execution_count": 47,
   "id": "deb06643-16ca-4813-b77d-11bb2129ef84",
   "metadata": {},
   "outputs": [],
   "source": [
    "# How is a pandas DataFrame different to a pandas series :-\n",
    "# A pandas Series has no column labels, as it is just a single column of a DataFrame ."
   ]
  },
  {
   "cell_type": "code",
   "execution_count": 48,
   "id": "82642278-e2b0-40ef-ab4d-58d0e1966725",
   "metadata": {},
   "outputs": [],
   "source": [
    "# example\n",
    "\n",
    "lst={\"Name\":['Alice','Bob','Claire'],\"Age\":[25,30,27],\"Gender\":['Female','Male','Female']}\n"
   ]
  },
  {
   "cell_type": "code",
   "execution_count": 53,
   "id": "4f9539b5-2270-42f9-bbf5-e2fb39da7f86",
   "metadata": {},
   "outputs": [
    {
     "name": "stdout",
     "output_type": "stream",
     "text": [
      "     Name  Age  Gender\n",
      "0   Alice   25  Female\n",
      "1     Bob   30    Male\n",
      "2  Claire   27  Female\n"
     ]
    },
    {
     "data": {
      "text/plain": [
       "pandas.core.frame.DataFrame"
      ]
     },
     "execution_count": 53,
     "metadata": {},
     "output_type": "execute_result"
    }
   ],
   "source": [
    "df=pd.DataFrame(lst)\n",
    "print(df)\n",
    "type(df)"
   ]
  },
  {
   "cell_type": "code",
   "execution_count": 54,
   "id": "5b78d0a9-1be8-4178-9e49-2c2551d9ad23",
   "metadata": {},
   "outputs": [
    {
     "name": "stdout",
     "output_type": "stream",
     "text": [
      "Name        [Alice, Bob, Claire]\n",
      "Age                 [25, 30, 27]\n",
      "Gender    [Female, Male, Female]\n",
      "dtype: object\n"
     ]
    },
    {
     "data": {
      "text/plain": [
       "pandas.core.series.Series"
      ]
     },
     "execution_count": 54,
     "metadata": {},
     "output_type": "execute_result"
    }
   ],
   "source": [
    "sd=pd.Series(lst)\n",
    "print(sd)\n",
    "type(sd)"
   ]
  },
  {
   "cell_type": "code",
   "execution_count": null,
   "id": "80042400-90bd-4a2a-a680-7d9eb37b98bd",
   "metadata": {},
   "outputs": [],
   "source": []
  },
  {
   "cell_type": "markdown",
   "id": "9c37d28b-0950-45ec-84f7-7f05c129e0dc",
   "metadata": {},
   "source": [
    "#### Q5. What are some common functions you can use to manipulate data in a Pandas DataFrame? Can\n",
    "#### you give an example of when you might use one of these functions?"
   ]
  },
  {
   "cell_type": "code",
   "execution_count": 59,
   "id": "bb6b1579-29df-49e1-8d40-c2c1f42a4395",
   "metadata": {},
   "outputs": [],
   "source": [
    "# Some common functions you can use to manipulate data in a Pandas DataFrame:-\n",
    "# 1. read_csv()\n",
    "# 2. head()\n",
    "# 3. describe()\n",
    "# 4. columns\n",
    "# 5. DataFrame\n",
    "# 6. Categorical\n",
    "# 7. Index"
   ]
  },
  {
   "cell_type": "code",
   "execution_count": 60,
   "id": "9c21bca3-5b3b-404b-94e7-066e5a0744f1",
   "metadata": {},
   "outputs": [],
   "source": [
    "lst={\"Name\":['Alice','Bob','Claire'],\"Age\":[25,30,27],\"Gender\":['Female','Male','Female']}\n",
    "\n",
    "df=pd.DataFrame(lst)"
   ]
  },
  {
   "cell_type": "code",
   "execution_count": 61,
   "id": "9e9ee683-bf4f-4832-8741-4fd4eafd5e61",
   "metadata": {},
   "outputs": [
    {
     "data": {
      "text/plain": [
       "Index(['Name', 'Age', 'Gender'], dtype='object')"
      ]
     },
     "execution_count": 61,
     "metadata": {},
     "output_type": "execute_result"
    }
   ],
   "source": [
    "df.columns"
   ]
  },
  {
   "cell_type": "code",
   "execution_count": null,
   "id": "c312fd4d-dd71-432c-a3f2-aeb9715ab556",
   "metadata": {},
   "outputs": [],
   "source": []
  },
  {
   "cell_type": "markdown",
   "id": "c1ff28c8-0c75-4b00-a026-519d6942320e",
   "metadata": {},
   "source": [
    "#### Q6. Which of the following is mutable in nature Series, DataFrame, Panel?"
   ]
  },
  {
   "cell_type": "code",
   "execution_count": 62,
   "id": "3d229e2a-8802-46da-9ac8-8bb4800194c6",
   "metadata": {},
   "outputs": [],
   "source": [
    "# DataFrames are both value and size-mutable."
   ]
  },
  {
   "cell_type": "code",
   "execution_count": 63,
   "id": "ccb7ff2f-6773-49ef-922a-943119e15a90",
   "metadata": {},
   "outputs": [],
   "source": [
    "# Series Objects are value-mutable but size-immutable objects."
   ]
  },
  {
   "cell_type": "code",
   "execution_count": 64,
   "id": "a6c9a371-a887-4e0e-9fd0-bcac371bf85f",
   "metadata": {},
   "outputs": [],
   "source": [
    "# In Panel Data and size are mutable."
   ]
  },
  {
   "cell_type": "code",
   "execution_count": null,
   "id": "ad662e2b-a104-4f88-a06e-b153d90db418",
   "metadata": {},
   "outputs": [],
   "source": []
  },
  {
   "cell_type": "markdown",
   "id": "f56f867a-ae2d-47d2-be9a-d99fc3f072fe",
   "metadata": {},
   "source": [
    "#### Q7. Create a DataFrame using multiple Series. Explain with an example."
   ]
  },
  {
   "cell_type": "code",
   "execution_count": 75,
   "id": "396a09e2-721d-4887-a915-8ee84ffc7150",
   "metadata": {},
   "outputs": [],
   "source": [
    "student = ['Ansh', 'Arun',\n",
    "          'Arpit', 'Shub']\n",
    "total_marks = [210, 211, 114, 178]"
   ]
  },
  {
   "cell_type": "code",
   "execution_count": 76,
   "id": "458aef03-aed2-48e8-ab96-2217af017f74",
   "metadata": {},
   "outputs": [],
   "source": [
    "auth_series = pd.Series(student)\n",
    "article_series = pd.Series(total_marks)"
   ]
  },
  {
   "cell_type": "code",
   "execution_count": 80,
   "id": "c68de145-e61c-4ef8-be42-1c6419542be2",
   "metadata": {},
   "outputs": [],
   "source": [
    "frame = {'student': auth_series,\n",
    "         'total_mark': article_series}"
   ]
  },
  {
   "cell_type": "code",
   "execution_count": 81,
   "id": "18234fab-96ab-4c1d-8d50-b571348f76dc",
   "metadata": {},
   "outputs": [],
   "source": [
    "result = pd.DataFrame(frame)"
   ]
  },
  {
   "cell_type": "code",
   "execution_count": 82,
   "id": "6bb8b5ab-7035-419e-b399-aa5487ab7939",
   "metadata": {},
   "outputs": [
    {
     "name": "stdout",
     "output_type": "stream",
     "text": [
      "  student  total_mark\n",
      "0    Ansh         210\n",
      "1    Arun         211\n",
      "2   Arpit         114\n",
      "3    Shub         178\n"
     ]
    }
   ],
   "source": [
    "print(result)"
   ]
  },
  {
   "cell_type": "code",
   "execution_count": null,
   "id": "73274b44-090e-4694-a25a-db1c11b653bc",
   "metadata": {},
   "outputs": [],
   "source": []
  }
 ],
 "metadata": {
  "kernelspec": {
   "display_name": "Python 3 (ipykernel)",
   "language": "python",
   "name": "python3"
  },
  "language_info": {
   "codemirror_mode": {
    "name": "ipython",
    "version": 3
   },
   "file_extension": ".py",
   "mimetype": "text/x-python",
   "name": "python",
   "nbconvert_exporter": "python",
   "pygments_lexer": "ipython3",
   "version": "3.10.8"
  }
 },
 "nbformat": 4,
 "nbformat_minor": 5
}
